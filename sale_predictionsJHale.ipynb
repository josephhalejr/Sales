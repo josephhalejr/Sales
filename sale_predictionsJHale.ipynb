{
  "nbformat": 4,
  "nbformat_minor": 0,
  "metadata": {
    "colab": {
      "name": "sale predictionsJHale.ipynb",
      "provenance": [],
      "mount_file_id": "1da96vhbySYhr16EbAVQCG0obV4xYunhr",
      "authorship_tag": "ABX9TyPlNMcvg5lGIu/Au7LVpWnR",
      "include_colab_link": true
    },
    "kernelspec": {
      "name": "python3",
      "display_name": "Python 3"
    },
    "language_info": {
      "name": "python"
    }
  },
  "cells": [
    {
      "cell_type": "markdown",
      "metadata": {
        "id": "view-in-github",
        "colab_type": "text"
      },
      "source": [
        "<a href=\"https://colab.research.google.com/github/josephhalejr/Sales/blob/main/sale_predictionsJHale.ipynb\" target=\"_parent\"><img src=\"https://colab.research.google.com/assets/colab-badge.svg\" alt=\"Open In Colab\"/></a>"
      ]
    },
    {
      "cell_type": "code",
      "execution_count": null,
      "metadata": {
        "id": "SfGsbhQ2-h6W"
      },
      "outputs": [],
      "source": [
        ""
      ]
    }
  ]
}