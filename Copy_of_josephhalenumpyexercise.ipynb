{
  "nbformat": 4,
  "nbformat_minor": 0,
  "metadata": {
    "colab": {
      "name": "Copy of josephhalenumpyexercise.ipynb",
      "provenance": [],
      "authorship_tag": "ABX9TyOQNccPy2ciaLCbAtr7AFJE",
      "include_colab_link": true
    },
    "kernelspec": {
      "name": "python3",
      "display_name": "Python 3"
    },
    "language_info": {
      "name": "python"
    }
  },
  "cells": [
    {
      "cell_type": "markdown",
      "metadata": {
        "id": "view-in-github",
        "colab_type": "text"
      },
      "source": [
        "<a href=\"https://colab.research.google.com/github/josephhalejr/Sales/blob/main/Copy_of_josephhalenumpyexercise.ipynb\" target=\"_parent\"><img src=\"https://colab.research.google.com/assets/colab-badge.svg\" alt=\"Open In Colab\"/></a>"
      ]
    },
    {
      "cell_type": "code",
      "execution_count": null,
      "metadata": {
        "colab": {
          "base_uri": "https://localhost:8080/"
        },
        "id": "TdtAhqC-DVMr",
        "outputId": "5a4299c0-a4c7-44c9-d27e-31f5a23d35df"
      },
      "outputs": [
        {
          "output_type": "execute_result",
          "data": {
            "text/plain": [
              "list"
            ]
          },
          "metadata": {},
          "execution_count": 37
        }
      ],
      "source": [
        "price = [2, 1, 10]\n",
        "type(price)"
      ]
    },
    {
      "cell_type": "code",
      "source": [
        "quantity_sold = [17, 40, 1]\n",
        "type(quantity_sold)"
      ],
      "metadata": {
        "colab": {
          "base_uri": "https://localhost:8080/"
        },
        "id": "tlsFMN3pDofb",
        "outputId": "d554551d-6125-4474-a668-34ea4dec7ff9"
      },
      "execution_count": null,
      "outputs": [
        {
          "output_type": "execute_result",
          "data": {
            "text/plain": [
              "list"
            ]
          },
          "metadata": {},
          "execution_count": 38
        }
      ]
    },
    {
      "cell_type": "code",
      "source": [
        "import numpy as np\n"
      ],
      "metadata": {
        "id": "Cll0A4jjEB-i"
      },
      "execution_count": null,
      "outputs": []
    },
    {
      "cell_type": "code",
      "source": [
        "price_array = np.array(price)\n",
        "quantity_sold_array = np.array(quantity_sold)\n",
        "type(price_array)"
      ],
      "metadata": {
        "colab": {
          "base_uri": "https://localhost:8080/"
        },
        "id": "QZMnKOdrEPNg",
        "outputId": "b973f871-3f4a-41be-82ea-966818de5ed0"
      },
      "execution_count": null,
      "outputs": [
        {
          "output_type": "execute_result",
          "data": {
            "text/plain": [
              "numpy.ndarray"
            ]
          },
          "metadata": {},
          "execution_count": 40
        }
      ]
    },
    {
      "cell_type": "code",
      "source": [
        "price_array * quantity_sold_array"
      ],
      "metadata": {
        "colab": {
          "base_uri": "https://localhost:8080/"
        },
        "id": "z7JHdi6wEvM_",
        "outputId": "fdbe8827-f9c2-4e10-c63f-b78be0c1049a"
      },
      "execution_count": null,
      "outputs": [
        {
          "output_type": "execute_result",
          "data": {
            "text/plain": [
              "array([34, 40, 10])"
            ]
          },
          "metadata": {},
          "execution_count": 41
        }
      ]
    },
    {
      "cell_type": "code",
      "source": [
        "cost_array = np.array ([0.25, 0.5, 5.00])\n",
        "\n"
      ],
      "metadata": {
        "id": "hKrc_WAXE5Dp"
      },
      "execution_count": null,
      "outputs": []
    },
    {
      "cell_type": "code",
      "source": [
        "profit_array = price_array - cost_array\n",
        "print(profit_array)"
      ],
      "metadata": {
        "colab": {
          "base_uri": "https://localhost:8080/"
        },
        "id": "_er4QGPpI2py",
        "outputId": "0886b925-8ee0-4bd1-a525-f5760265e132"
      },
      "execution_count": null,
      "outputs": [
        {
          "output_type": "stream",
          "name": "stdout",
          "text": [
            "[1.75 0.5  5.  ]\n"
          ]
        }
      ]
    },
    {
      "cell_type": "code",
      "source": [
        "profit_array > 2.00"
      ],
      "metadata": {
        "colab": {
          "base_uri": "https://localhost:8080/"
        },
        "id": "xgs23EhMJJus",
        "outputId": "8e7d463a-6971-4bb4-dbd5-c1bb46b1a310"
      },
      "execution_count": null,
      "outputs": [
        {
          "output_type": "execute_result",
          "data": {
            "text/plain": [
              "array([False, False,  True])"
            ]
          },
          "metadata": {},
          "execution_count": 44
        }
      ]
    },
    {
      "cell_type": "code",
      "source": [
        "price_array = price_array + [7]\n",
        "print(price_array)"
      ],
      "metadata": {
        "colab": {
          "base_uri": "https://localhost:8080/"
        },
        "id": "VOUo1BTKJRmk",
        "outputId": "2f52e9e1-885a-4fff-ac21-c1c239d137cf"
      },
      "execution_count": null,
      "outputs": [
        {
          "output_type": "stream",
          "name": "stdout",
          "text": [
            "[ 9  8 17]\n"
          ]
        }
      ]
    },
    {
      "cell_type": "code",
      "source": [
        "# just fixing the mistake\n",
        "price_array = price_array - [7]\n",
        "# the proper way to append an element to an array\n",
        "price_array = np.append(price_array, 7)\n",
        "print(price_array)\n",
        "                        "
      ],
      "metadata": {
        "colab": {
          "base_uri": "https://localhost:8080/"
        },
        "id": "i2gTjmsFJmKp",
        "outputId": "269cbdbb-1296-4636-fd2d-f9c080c04b7e"
      },
      "execution_count": null,
      "outputs": [
        {
          "output_type": "stream",
          "name": "stdout",
          "text": [
            "[ 2  1 10  7]\n"
          ]
        }
      ]
    },
    {
      "cell_type": "code",
      "source": [
        "price_array = np.append(price_array, [4.5, 3, 4, 9])\n",
        "print(price_array)                       "
      ],
      "metadata": {
        "colab": {
          "base_uri": "https://localhost:8080/"
        },
        "id": "5wHBOdtrKxv1",
        "outputId": "9b0d1824-888c-4f86-8b37-c6a6c82c988d"
      },
      "execution_count": null,
      "outputs": [
        {
          "output_type": "stream",
          "name": "stdout",
          "text": [
            "[ 2.   1.  10.   7.   4.5  3.   4.   9. ]\n"
          ]
        }
      ]
    },
    {
      "cell_type": "code",
      "source": [
        "print(price_array.dtype)"
      ],
      "metadata": {
        "colab": {
          "base_uri": "https://localhost:8080/"
        },
        "id": "hLGu0qdEMWxN",
        "outputId": "b71a8c72-143f-431a-8bda-80967a098219"
      },
      "execution_count": null,
      "outputs": [
        {
          "output_type": "stream",
          "name": "stdout",
          "text": [
            "float64\n"
          ]
        }
      ]
    },
    {
      "cell_type": "code",
      "source": [
        "price_array = np.delete(price_array, -1)\n",
        "print(price_array)"
      ],
      "metadata": {
        "colab": {
          "base_uri": "https://localhost:8080/"
        },
        "id": "Dntk5W8SMnB7",
        "outputId": "ee4c7d15-afeb-422e-d2dd-7bb845264508"
      },
      "execution_count": null,
      "outputs": [
        {
          "output_type": "stream",
          "name": "stdout",
          "text": [
            "[ 2.   1.  10.   7.   4.5  3.   4. ]\n"
          ]
        }
      ]
    },
    {
      "cell_type": "code",
      "source": [
        ""
      ],
      "metadata": {
        "id": "n0o88HzPM6nG"
      },
      "execution_count": null,
      "outputs": []
    },
    {
      "cell_type": "code",
      "source": [
        "price_array[2] = 12\n",
        "print(price_array)"
      ],
      "metadata": {
        "colab": {
          "base_uri": "https://localhost:8080/"
        },
        "id": "LU08EL70M9PZ",
        "outputId": "dc080331-db19-4e81-8476-3241ff1c061d"
      },
      "execution_count": null,
      "outputs": [
        {
          "output_type": "stream",
          "name": "stdout",
          "text": [
            "[ 2.   1.  12.   7.   4.5  3.   4. ]\n"
          ]
        }
      ]
    },
    {
      "cell_type": "code",
      "source": [
        "quantity_sold_array = np.append(quantity_sold_array,[2, 3, 16, 5])\n",
        "print(quantity_sold_array)\n",
        "quantity_sold_array[1] = 39"
      ],
      "metadata": {
        "colab": {
          "base_uri": "https://localhost:8080/"
        },
        "id": "nxzOCfMvNSdB",
        "outputId": "9536556a-97d9-42f9-9624-edb759c6ebf4"
      },
      "execution_count": null,
      "outputs": [
        {
          "output_type": "stream",
          "name": "stdout",
          "text": [
            "[17 40  1  2  3 16  5]\n"
          ]
        }
      ]
    },
    {
      "cell_type": "code",
      "source": [
        "price_array * quantity_sold_array"
      ],
      "metadata": {
        "colab": {
          "base_uri": "https://localhost:8080/"
        },
        "id": "QcVzjuu9PfY5",
        "outputId": "3697e135-643e-4650-abfc-aad5685d020c"
      },
      "execution_count": null,
      "outputs": [
        {
          "output_type": "execute_result",
          "data": {
            "text/plain": [
              "array([34. , 39. , 12. , 14. , 13.5, 48. , 20. ])"
            ]
          },
          "metadata": {},
          "execution_count": 52
        }
      ]
    },
    {
      "cell_type": "code",
      "source": [
        "\n",
        "print(quantity_sold_array)"
      ],
      "metadata": {
        "colab": {
          "base_uri": "https://localhost:8080/"
        },
        "id": "9uDbwT1LVV9S",
        "outputId": "16ebbba5-e27c-4414-8100-b06a45e5efdc"
      },
      "execution_count": null,
      "outputs": [
        {
          "output_type": "stream",
          "name": "stdout",
          "text": [
            "[17 39  1  2  3 16  5]\n"
          ]
        }
      ]
    },
    {
      "cell_type": "code",
      "source": [
        "quantity_leftover = np.array([ 0, 0, 2, 1, 6, 0, 2])\n"
      ],
      "metadata": {
        "id": "99xHhQK2bZ8a"
      },
      "execution_count": null,
      "outputs": []
    },
    {
      "cell_type": "code",
      "source": [
        "quantity_leftover * (price_array/2)\n"
      ],
      "metadata": {
        "colab": {
          "base_uri": "https://localhost:8080/"
        },
        "id": "aG1A3oEMeloc",
        "outputId": "ee36b838-d455-423f-f3c7-b984eb9499d1"
      },
      "execution_count": null,
      "outputs": [
        {
          "output_type": "execute_result",
          "data": {
            "text/plain": [
              "array([ 0. ,  0. , 12. ,  3.5, 13.5,  0. ,  4. ])"
            ]
          },
          "metadata": {},
          "execution_count": 60
        }
      ]
    },
    {
      "cell_type": "code",
      "source": [
        "sum(quantity_leftover * (price_array/2))"
      ],
      "metadata": {
        "colab": {
          "base_uri": "https://localhost:8080/"
        },
        "id": "HV4zVF0CgrHP",
        "outputId": "535235b6-6842-4145-fc20-2d167d7ceee2"
      },
      "execution_count": null,
      "outputs": [
        {
          "output_type": "execute_result",
          "data": {
            "text/plain": [
              "33.0"
            ]
          },
          "metadata": {},
          "execution_count": 61
        }
      ]
    }
  ]
}